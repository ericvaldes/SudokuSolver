{
 "cells": [
  {
   "cell_type": "markdown",
   "metadata": {},
   "source": [
    "# Sudoku Solver Exact Cover Problem Algorithm X"
   ]
  },
  {
   "cell_type": "code",
   "execution_count": 1,
   "metadata": {},
   "outputs": [],
   "source": [
    "# EXAMPLES OF INITIAL SUDOKUS TO SOLVE\n",
    "sudoku_ex1 = \"001900008600085030007060100034090000000504000000010420005070900010840007700009200\"\n",
    "sudoku_ex2 = \"2004403002411403\"\n",
    "sudoku_ex3 = \"530070000600195000098000060800060003400803001700020006060000280000419005000080079\""
   ]
  },
  {
   "cell_type": "code",
   "execution_count": 2,
   "metadata": {},
   "outputs": [],
   "source": [
    "# MODULES\n",
    "import numpy as np\n",
    "import matplotlib.pyplot as plt"
   ]
  },
  {
   "cell_type": "code",
   "execution_count": 3,
   "metadata": {},
   "outputs": [],
   "source": [
    "# DEFINE VARIABLES\n",
    "n = 9\n",
    "sudoku = sudoku_ex3"
   ]
  },
  {
   "cell_type": "code",
   "execution_count": 4,
   "metadata": {},
   "outputs": [],
   "source": [
    "# From the example, reshape it into a numpy array of 9x9\n",
    "def reshape(inline_matrix):\n",
    "    return np.array(list(inline_matrix), dtype=int).reshape((n,n))"
   ]
  },
  {
   "cell_type": "code",
   "execution_count": 5,
   "metadata": {},
   "outputs": [],
   "source": [
    "# CREATE THE COVER MATRIX \n",
    "constrains = 4\n",
    "\n",
    "# The columns are the constrains (in our case 4 constrains * 9*9 possibilities))\n",
    "columns = constrains*n*n\n",
    "\n",
    "# The rows are possible solutions (number,row,column,region)\n",
    "rows = n*n*n\n",
    "\n",
    "cover = np.zeros((rows,columns), dtype=int)"
   ]
  },
  {
   "cell_type": "code",
   "execution_count": 6,
   "metadata": {},
   "outputs": [],
   "source": [
    "# Get the region of the element\n",
    "def number_region(row, column, n):\n",
    "    m = np.floor(np.sqrt(n))\n",
    "    h = np.floor(row / m)\n",
    "    w = np.floor(column / m)\n",
    "    return int(m*h + w + 1)"
   ]
  },
  {
   "cell_type": "code",
   "execution_count": 7,
   "metadata": {},
   "outputs": [],
   "source": [
    "# POPULATE THE COVER WITH ALL THE 1s\n",
    "c = [0,n*n,2*n*n,3*n*n]\n",
    "cover_row = -1\n",
    "for row in range(n):\n",
    "    for column in range(n):\n",
    "        for number in range(n):\n",
    "            cover_row += 1\n",
    "            column1 = c[0] + column + row*n\n",
    "            cover[cover_row, column1] = 1\n",
    "            column2 = c[1] + number + row*n\n",
    "            cover[cover_row, column2] = 1\n",
    "            column3 = c[2] +number + column*n\n",
    "            cover[cover_row, column3] = 1\n",
    "            region = number_region(row,column,n)\n",
    "            column4 = c[3] + number + (region-1)*n\n",
    "            cover[cover_row, column4] = 1"
   ]
  },
  {
   "cell_type": "code",
   "execution_count": 8,
   "metadata": {},
   "outputs": [],
   "source": [
    "def get_row(row,column,number):\n",
    "    index = n*n*row + n*column + number - 1\n",
    "    return index"
   ]
  },
  {
   "cell_type": "code",
   "execution_count": 9,
   "metadata": {},
   "outputs": [
    {
     "name": "stdout",
     "output_type": "stream",
     "text": [
      "[4, 11, 42, 86, 108, 125, 130, 179, 187, 230, 250, 284, 317, 327, 358, 371, 396, 411, 442, 482, 500, 541, 556, 597, 603, 620, 643, 691, 717, 728]\n"
     ]
    }
   ],
   "source": [
    "# Removal of the kown elements in the inital matrix\n",
    "# Get the row and column indexes of the elements different than 0\n",
    "initial = reshape(sudoku)\n",
    "values = []\n",
    "for i in range(n):\n",
    "    for j in range(n):\n",
    "        v = initial[i,j]\n",
    "        if(v!=0):\n",
    "            values.append(get_row(i,j,v))\n",
    "print(values)"
   ]
  },
  {
   "cell_type": "markdown",
   "metadata": {},
   "source": [
    "### ALGORITHM X IMPLEMENTATION"
   ]
  },
  {
   "cell_type": "code",
   "execution_count": 10,
   "metadata": {},
   "outputs": [],
   "source": [
    "# Define the matrix\n",
    "constraint = np.copy(cover)\n",
    "solution = np.zeros_like(cover)\n",
    "solution_values = []\n",
    "solution_r = 0"
   ]
  },
  {
   "cell_type": "code",
   "execution_count": 11,
   "metadata": {},
   "outputs": [],
   "source": [
    "# Add the known values to the solution and remove them from the constraint\n",
    "for index_row in values:\n",
    "    row = constraint[index_row,:]\n",
    "    # Add the line to the solution\n",
    "    solution[solution_r,:] = row\n",
    "    solution_r += 1\n",
    "    solution_values.append(index_row)\n",
    "    # Delete all the rows that satisgy any of the constrains of the selected row\n",
    "    ones = np.where(row > 0)[0]\n",
    "    for one in ones:\n",
    "        # Get the index of the rows with ones in the same columns\n",
    "        partners = np.where(constraint[:,one]>0)[0]\n",
    "        if(len(partners)>0):\n",
    "            for partner in partners:\n",
    "                constraint[partner,:] = 0\n",
    "        constraint[:,one] = 0\n",
    "    constraint[index_row,:] = 0"
   ]
  },
  {
   "cell_type": "code",
   "execution_count": 12,
   "metadata": {},
   "outputs": [],
   "source": [
    "while(len(solution_values) < n*n):\n",
    "    # Get the counter of the columns\n",
    "    counter = np.sum(constraint, axis=0)\n",
    "    # Get the columns where there are no ones in the solution\n",
    "    sol_counter = np.sum(solution, axis=0)\n",
    "    condition = np.where(sol_counter > 0)[0]\n",
    "    if len(condition)==0:\n",
    "        print(\"There is no condition\")\n",
    "        index_column = 0\n",
    "    else:\n",
    "        # from the possible solutions, get the one with less ones in its column\n",
    "        if(np.max(counter)==0):\n",
    "            print(\"Every column is empty\")\n",
    "            break\n",
    "        min_col = np.min(counter[np.nonzero(counter)])\n",
    "        possible = np.where(counter==min_col)[0]\n",
    "        if(len(possible)==0):\n",
    "            break\n",
    "        else:\n",
    "            for p in possible:\n",
    "                if(p not in condition):\n",
    "                    index_column = p\n",
    "                    break\n",
    "    # From that column, get the first row with a 1 in it\n",
    "    column = constraint[:,index_column]\n",
    "    row_condition = np.where(column > 0)[0]\n",
    "    if(len(row_condition)>0):\n",
    "        index_row = row_condition[0]\n",
    "    else:\n",
    "        print('row condition error')\n",
    "        break\n",
    "    row = constraint[index_row,:]\n",
    "    # Add the line to the solution\n",
    "    solution[solution_r,:] = row\n",
    "    solution_r += 1\n",
    "    solution_values.append(index_row)\n",
    "    # Delete all the rows that satisgy any of the constrains of the selected row\n",
    "    ones = np.where(row > 0)[0]\n",
    "    for one in ones:\n",
    "        # Get the index of the rows with ones in the same columns\n",
    "        partners = np.where(constraint[:,one]>0)[0]\n",
    "        if(len(partners)>0):\n",
    "            for partner in partners:\n",
    "                constraint[partner,:] = 0\n",
    "        constraint[:,one] = 0\n",
    "    constraint[index_row,:] = 0"
   ]
  },
  {
   "cell_type": "code",
   "execution_count": 13,
   "metadata": {},
   "outputs": [],
   "source": [
    "# Transfrom index to value and position\n",
    "def return_position(index):\n",
    "    row = int(np.floor(index/(n*n)))\n",
    "    column = int(np.floor(index/n)-row*n)\n",
    "    value = int(index - n*n*row - n*column)+1\n",
    "    return row,column,value"
   ]
  },
  {
   "cell_type": "code",
   "execution_count": 14,
   "metadata": {},
   "outputs": [
    {
     "name": "stdout",
     "output_type": "stream",
     "text": [
      "[[5 3 4 6 7 8 9 1 2]\n",
      " [6 7 2 1 9 5 3 4 8]\n",
      " [1 9 8 3 4 2 5 6 7]\n",
      " [8 5 9 7 6 1 4 2 3]\n",
      " [4 2 6 8 5 3 7 9 1]\n",
      " [7 1 3 9 2 4 8 5 6]\n",
      " [9 6 1 5 3 7 2 8 4]\n",
      " [2 8 7 4 1 9 6 3 5]\n",
      " [3 4 5 2 8 6 1 7 9]]\n"
     ]
    }
   ],
   "source": [
    "# Express the solution\n",
    "sudoku_sol = np.zeros((n,n), dtype=int)\n",
    "for element in solution_values:\n",
    "    r,c,v = return_position(element)\n",
    "    sudoku_sol[r,c] = v\n",
    "print(sudoku_sol)"
   ]
  }
 ],
 "metadata": {
  "kernelspec": {
   "display_name": "Python 3",
   "language": "python",
   "name": "python3"
  },
  "language_info": {
   "codemirror_mode": {
    "name": "ipython",
    "version": 3
   },
   "file_extension": ".py",
   "mimetype": "text/x-python",
   "name": "python",
   "nbconvert_exporter": "python",
   "pygments_lexer": "ipython3",
   "version": "3.7.0"
  }
 },
 "nbformat": 4,
 "nbformat_minor": 2
}
